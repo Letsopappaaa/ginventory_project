{
 "cells": [
  {
   "cell_type": "markdown",
   "id": "136da7ea",
   "metadata": {},
   "source": [
    "# Step 1: Scope the Project and Gather Data\n",
    "Since the scope of the project will be highly dependent on the data, these two things happen simultaneously. In this step, you’ll:\n",
    "\n",
    "Identify and gather the data you'll be using for your project (at least two sources and more than 1 million rows). See Project Resources for ideas of what data you can use.\n",
    "Explain what end use cases you'd like to prepare the data for (e.g., analytics table, app back-end, source-of-truth database, etc.)\n",
    "\n",
    "- Step 2: Explore and Assess the Data\n",
    "Explore the data to identify data quality issues, like missing values, duplicate data, etc.\n",
    "Document steps necessary to clean the data\n",
    "- Step 3: Define the Data Model\n",
    "Map out the conceptual data model and explain why you chose that model\n",
    "List the steps necessary to pipeline the data into the chosen data model\n",
    "- Step 4: Run ETL to Model the Data\n",
    "Create the data pipelines and the data model\n",
    "Include a data dictionary\n",
    "Run data quality checks to ensure the pipeline ran as expected\n",
    "Integrity constraints on the relational database (e.g., unique key, data type, etc.)\n",
    "Unit tests for the scripts to ensure they are doing the right thing\n",
    "Source/count checks to ensure completeness\n",
    "- Step 5: Complete Project Write Up\n",
    "What's the goal? What queries will you want to run? How would Spark or Airflow be incorporated? Why did you choose the model you chose?\n",
    "Clearly state the rationale for the choice of tools and technologies for the project.\n",
    "Document the steps of the process.\n",
    "Propose how often the data should be updated and why.\n",
    "Post your write-up and final data model in a GitHub repo.\n",
    "Include a description of how you would approach the problem differently under the following scenarios:\n",
    "If the data was increased by 100x.\n",
    "If the pipelines were run on a daily basis by 7am.\n",
    "If the database needed to be accessed by 100+ people."
   ]
  },
  {
   "cell_type": "markdown",
   "id": "e41262bc",
   "metadata": {},
   "source": [
    "# 1 Scope\n",
    "\n",
    "Scrape a custom API of a mobile app to gather the underlying data. After some data modeling we will be able to use this to perform some analytics and create some visualizations. The topic of this project is gin, thus there will be some quantifyable elements in our data, some factual elements, but also a lot of personal opinions."
   ]
  },
  {
   "cell_type": "markdown",
   "id": "9e9242fd",
   "metadata": {},
   "source": [
    "# Reverse-engineering a private API\n",
    "\n",
    "The only place I was able to find the information I was looking for (some data on different gin brands) was stuck behind an iOS/Android app. The following is a high level description of the setup process on how to access a private API of a mobile app, you can find further resources in the provided links.\n",
    "- The simplest way to approach the problem is to use an Android emulator, in this case I used Android Studio. Due to Android's strict Certificate Authority management it is a bit finicky to setup mitmproxy with a system certificate on an Android emulator. An alternative is using a rooted physical device, in which case you will have a much easier time with CA management.\n",
    "- Download an APK version of your target app, and install it on the emulated device. \n",
    "- Install ADB, and make sure to add the platform-tools folder to your PATH variable. --> Guide Check if your emulator is connected to ADB with ADB devices.\n",
    "- Install HTTP Toolkit. Select Android device via ADB as your traffic source and follow setup steps in the emulator.\n",
    "- Done! You should be able to see HTTP requests coming in from the emulator.\n",
    "- All there is left to do is find the GET request that you are after, find the URL structure and the API key which we will use to authenticate our requests.\n"
   ]
  },
  {
   "cell_type": "markdown",
   "id": "211cd23f",
   "metadata": {},
   "source": [
    "One of the first requests the app sends returns the full list of gins/tonics on the site, with a reduced number of fields."
   ]
  },
  {
   "cell_type": "code",
   "execution_count": 15,
   "id": "6272d169",
   "metadata": {},
   "outputs": [],
   "source": [
    "import pandas as pd\n",
    "from bs4 import BeautifulSoup\n",
    "import requests\n",
    "import time\n",
    "import numpy as np\n",
    "import json\n",
    "import os\n"
   ]
  },
  {
   "cell_type": "markdown",
   "id": "8dc5a02e",
   "metadata": {},
   "source": [
    "# Get requests"
   ]
  },
  {
   "cell_type": "code",
   "execution_count": null,
   "id": "53b74bbb",
   "metadata": {
    "scrolled": true
   },
   "outputs": [],
   "source": [
    "baseURL = 'https://ginventory.reed.be/api/v2/products/{}?api_key={}&lang=en'\n",
    "api_key = '175405344b34bde70ef2970b44e8f07d'\n",
    "headers = {\n",
    "    'User-Agent': 'Test, Peter Oravecz',\n",
    "    'From': 'peteroravecz9@gmail.com'\n",
    "}\n",
    "\n",
    "response_collection = []\n",
    "for i in range(1,100):\n",
    "    url = baseURL.format(i, api_key)\n",
    "    response = requests.get(url, headers = headers)\n",
    "    print(i)\n",
    "    response_collection.append(response.json())\n",
    "    time.sleep(0.1)\n",
    "    \n",
    "with open('data_100.json', 'w', encoding='utf-8') as f:\n",
    "    json.dump(response_collection, f, ensure_ascii=False, indent=4)\n",
    "print(\"Responses collected!\")"
   ]
  },
  {
   "cell_type": "markdown",
   "id": "bd127aad",
   "metadata": {},
   "source": [
    "# Read in requests from file"
   ]
  },
  {
   "cell_type": "code",
   "execution_count": 23,
   "id": "c2971fec",
   "metadata": {
    "scrolled": true
   },
   "outputs": [],
   "source": [
    "with open(\"data_100.json\", 'r', encoding='utf-8') as file:\n",
    "    file_json = json.load(file)"
   ]
  },
  {
   "cell_type": "code",
   "execution_count": 40,
   "id": "acdfc485",
   "metadata": {},
   "outputs": [],
   "source": [
    "# Creating dataframes for our 3 main tables, and saving them to csv files.\n",
    "df = pd.json_normalize(file_json)\n",
    "df = df.drop(['direct_purchase_url', 'user_rating', 'in_wishlist', 'in_cabinet', 'purchase_links.data',\n",
    "              'perfect_tonics.data','perfect_garnishes.data', 'perfect_gins.data'], axis=1)\n",
    "\n",
    "df_gin = df[df.type == 'gin']\n",
    "df_garnish = df[df.type == 'garnish']\n",
    "df_tonic = df[df.type == 'tonic']\n",
    "\n",
    "os.makedirs('data', exist_ok=True)\n",
    "df_gin.to_csv('data/gins.csv', sep=';')\n",
    "df_garnish.to_csv('data/garnishes.csv', sep=';')\n",
    "df_tonic.to_csv('data/tonics.csv', sep=';')"
   ]
  },
  {
   "cell_type": "code",
   "execution_count": 89,
   "id": "85e252a6",
   "metadata": {},
   "outputs": [],
   "source": [
    "# Extract relationships between gins, garnishes and tonics\n",
    "# These tables will form our many-to-many translation tables in our model\n",
    "\n",
    "df = pd.DataFrame(file_json)\n",
    "df = df[df.type == 'gin']\n",
    "df = df.set_index('id')\n",
    "\n",
    "df[\"perfect_tonics\"] = df[\"perfect_tonics\"].str[\"data\"]\n",
    "df[\"perfect_garnishes\"] = df[\"perfect_garnishes\"].str[\"data\"]\n",
    "\n",
    "df_perfect_tonics = df.explode(\"perfect_tonics\")\n",
    "df_perfect_garnishes = df.explode(\"perfect_garnishes\")\n",
    "\n",
    "df_perfect_tonics = pd.concat(\n",
    "    [\n",
    "        df_perfect_tonics,\n",
    "        df_perfect_tonics.pop(\"perfect_tonics\").apply(pd.Series).add_prefix(\"perfect_tonics_\"),\n",
    "    ],\n",
    "    axis=1,\n",
    ")\n",
    "\n",
    "df_perfect_garnishes = pd.concat(\n",
    "    [\n",
    "        df_perfect_garnishes,\n",
    "        df_perfect_garnishes.pop(\"perfect_garnishes\")\n",
    "        .apply(pd.Series)\n",
    "        .add_prefix(\"perfect_garnishes_\"),\n",
    "    ],\n",
    "    axis=1,\n",
    ")\n",
    "\n",
    "df_perfect_garnishes = df_perfect_garnishes.drop(['type', 'name', 'perfect_garnishes_name','first_name', 'second_name', 'picture_url',\n",
    "       'producer', 'country', 'abv', 'direct_purchase_url', 'average_rating',\n",
    "       'rating_count', 'user_rating', 'in_wishlist', 'in_cabinet','description',\n",
    "        'purchase_links','perfect_gins', 'perfect_garnishes_type',\n",
    "        'perfect_garnishes_0', 'perfect_tonics'], axis=1)\n",
    "\n",
    "df_perfect_tonics = df_perfect_tonics.drop(['type', 'name','perfect_tonics_name','first_name', 'second_name', 'picture_url',\n",
    "       'producer', 'country', 'abv', 'direct_purchase_url', 'average_rating',\n",
    "       'rating_count', 'user_rating', 'in_wishlist', 'in_cabinet','description',\n",
    "        'purchase_links','perfect_gins', 'perfect_tonics_0', 'perfect_garnishes',\n",
    "        'perfect_tonics_average_rating', 'perfect_tonics_first_name', 'perfect_tonics_picture_url',\n",
    "        'perfect_tonics_rating_count', 'perfect_tonics_second_name', 'perfect_tonics_type'], axis=1)\n",
    "\n",
    "\n",
    "df_perfect_tonics.to_csv('data/gins-tonics.csv', sep=';')\n",
    "df_perfect_garnishes.to_csv('data/gins-garnishes.csv', sep=';')"
   ]
  },
  {
   "cell_type": "code",
   "execution_count": 86,
   "id": "4ad7443a",
   "metadata": {},
   "outputs": [
    {
     "data": {
      "text/html": [
       "<div>\n",
       "<style scoped>\n",
       "    .dataframe tbody tr th:only-of-type {\n",
       "        vertical-align: middle;\n",
       "    }\n",
       "\n",
       "    .dataframe tbody tr th {\n",
       "        vertical-align: top;\n",
       "    }\n",
       "\n",
       "    .dataframe thead th {\n",
       "        text-align: right;\n",
       "    }\n",
       "</style>\n",
       "<table border=\"1\" class=\"dataframe\">\n",
       "  <thead>\n",
       "    <tr style=\"text-align: right;\">\n",
       "      <th></th>\n",
       "      <th>perfect_garnishes_id</th>\n",
       "    </tr>\n",
       "    <tr>\n",
       "      <th>id</th>\n",
       "      <th></th>\n",
       "    </tr>\n",
       "  </thead>\n",
       "  <tbody>\n",
       "    <tr>\n",
       "      <th>1</th>\n",
       "      <td>5.0</td>\n",
       "    </tr>\n",
       "    <tr>\n",
       "      <th>1</th>\n",
       "      <td>4.0</td>\n",
       "    </tr>\n",
       "    <tr>\n",
       "      <th>1</th>\n",
       "      <td>3.0</td>\n",
       "    </tr>\n",
       "    <tr>\n",
       "      <th>6</th>\n",
       "      <td>8.0</td>\n",
       "    </tr>\n",
       "    <tr>\n",
       "      <th>6</th>\n",
       "      <td>9.0</td>\n",
       "    </tr>\n",
       "  </tbody>\n",
       "</table>\n",
       "</div>"
      ],
      "text/plain": [
       "    perfect_garnishes_id\n",
       "id                      \n",
       "1                    5.0\n",
       "1                    4.0\n",
       "1                    3.0\n",
       "6                    8.0\n",
       "6                    9.0"
      ]
     },
     "execution_count": 86,
     "metadata": {},
     "output_type": "execute_result"
    }
   ],
   "source": [
    "df_perfect_garnishes.head()"
   ]
  },
  {
   "cell_type": "code",
   "execution_count": null,
   "id": "2db810b7",
   "metadata": {},
   "outputs": [],
   "source": []
  }
 ],
 "metadata": {
  "kernelspec": {
   "display_name": "Python 3 (ipykernel)",
   "language": "python",
   "name": "python3"
  },
  "language_info": {
   "codemirror_mode": {
    "name": "ipython",
    "version": 3
   },
   "file_extension": ".py",
   "mimetype": "text/x-python",
   "name": "python",
   "nbconvert_exporter": "python",
   "pygments_lexer": "ipython3",
   "version": "3.9.6"
  }
 },
 "nbformat": 4,
 "nbformat_minor": 5
}
