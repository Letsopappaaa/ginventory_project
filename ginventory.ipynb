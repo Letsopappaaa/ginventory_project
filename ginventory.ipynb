{
 "cells": [
  {
   "cell_type": "markdown",
   "id": "136da7ea",
   "metadata": {},
   "source": [
    "# Step 1: Scope the Project and Gather Data\n",
    "Since the scope of the project will be highly dependent on the data, these two things happen simultaneously. In this step, you’ll:\n",
    "\n",
    "Identify and gather the data you'll be using for your project (at least two sources and more than 1 million rows). See Project Resources for ideas of what data you can use.\n",
    "Explain what end use cases you'd like to prepare the data for (e.g., analytics table, app back-end, source-of-truth database, etc.)\n",
    "\n",
    "- Step 2: Explore and Assess the Data\n",
    "Explore the data to identify data quality issues, like missing values, duplicate data, etc.\n",
    "Document steps necessary to clean the data\n",
    "- Step 3: Define the Data Model\n",
    "Map out the conceptual data model and explain why you chose that model\n",
    "List the steps necessary to pipeline the data into the chosen data model\n",
    "- Step 4: Run ETL to Model the Data\n",
    "Create the data pipelines and the data model\n",
    "Include a data dictionary\n",
    "Run data quality checks to ensure the pipeline ran as expected\n",
    "Integrity constraints on the relational database (e.g., unique key, data type, etc.)\n",
    "Unit tests for the scripts to ensure they are doing the right thing\n",
    "Source/count checks to ensure completeness\n",
    "- Step 5: Complete Project Write Up\n",
    "What's the goal? What queries will you want to run? How would Spark or Airflow be incorporated? Why did you choose the model you chose?\n",
    "Clearly state the rationale for the choice of tools and technologies for the project.\n",
    "Document the steps of the process.\n",
    "Propose how often the data should be updated and why.\n",
    "Post your write-up and final data model in a GitHub repo.\n",
    "Include a description of how you would approach the problem differently under the following scenarios:\n",
    "If the data was increased by 100x.\n",
    "If the pipelines were run on a daily basis by 7am.\n",
    "If the database needed to be accessed by 100+ people."
   ]
  },
  {
   "cell_type": "markdown",
   "id": "e41262bc",
   "metadata": {},
   "source": [
    "# 1 Scope\n",
    "\n",
    "The first data source for this projects is the Ginventory mobile application. The structure of the API has been reverse engineered with the help of an Android emulator and HTTP Toolkit, see more detailed description below. This will constitute our products data.\n",
    "\n",
    "I will be generating purchases data with Faker, which is the second source I will be using."
   ]
  },
  {
   "cell_type": "markdown",
   "id": "9e9242fd",
   "metadata": {},
   "source": [
    "# Reverse-engineering the API\n",
    "\n",
    "The only place I was able to find the information I was looking for (some data on different gin brands) was stuck behind an iOS/Android app. The following is a high level description of how I accessed the data.\n",
    "- The simplest way to approach the problem is to use an Android emulator, in this case I used Android Studio. Due to Android's strict Certificate Authority management it is a bit finicky to setup mitmproxy with a system certificate on an Android emulator. An alternative is using a rooted physical device, in which case you will have a much easier time with CA management.\n",
    "- Download an APK version of your target app, and install it on the emulated device. \n",
    "- Install ADB, and make sure to add the platform-tools folder to your PATH variable. --> Guide Check if your emulator is connected to ADB with ADB devices.\n",
    "- Install HTTP Toolkit. Select Android device via ADB as your traffic source and follow setup steps in the emulator.\n",
    "- Done! You should be able to see HTTP requests coming in from the emulator.\n",
    "- All there is left to do is find the GET request that you are after, find the URL structure and the API key which we will use to authenticate our requests.\n"
   ]
  },
  {
   "cell_type": "markdown",
   "id": "211cd23f",
   "metadata": {},
   "source": [
    "One of the first requests the app sends returns the full list of gins/tonics on the site, with a reduced number of fields."
   ]
  },
  {
   "cell_type": "code",
   "execution_count": 1,
   "id": "6272d169",
   "metadata": {},
   "outputs": [],
   "source": [
    "import pandas as pd\n",
    "import numpy as np\n",
    "import requests\n",
    "import time\n",
    "import json\n",
    "import os\n",
    "import boto3\n",
    "from requests.exceptions import HTTPError\n",
    "from botocore.exceptions import ClientError\n",
    "import sql_statements\n",
    "import redshift_connector\n",
    "\n",
    "# Variables\n",
    "baseURL = 'https://ginventory.reed.be/api/v2/products/{}?api_key={}&lang=en'\n",
    "api_key = '175405344b34bde70ef2970b44e8f07d'\n",
    "headers = {\n",
    "    'User-Agent': 'Test, Peter Oravecz',\n",
    "    'From': 'peteroravecz9@gmail.com'\n",
    "}\n",
    "\n",
    "raw_folder = \"raw\"\n",
    "normalized_folder = \"normalized_data\"\n",
    "\n",
    "s3_client = boto3.client(\"s3\")\n",
    "redshift = boto3.client('redshift')\n",
    "iam = boto3.client('iam')\n",
    "ec2 = boto3.resource(\"ec2\")\n",
    "redshift_data = boto3.client('redshift-data')"
   ]
  },
  {
   "cell_type": "markdown",
   "id": "8dc5a02e",
   "metadata": {},
   "source": [
    "# Get requests"
   ]
  },
  {
   "cell_type": "code",
   "execution_count": null,
   "id": "6ad80ac3",
   "metadata": {},
   "outputs": [],
   "source": [
    "# Get highest ID number from ginventory_short.json\n",
    "# A version of the dataset is available from one of the first calls the app makes when establishing connection,\n",
    "# with a reduced set of columns. The largest id num (8770) comes from this file (ginventory_short.json).\n",
    "with open('raw/ginventory_short.json', 'r', encoding='utf-8') as file:\n",
    "    file_json = json.load(file)\n",
    "\n",
    "df = pd.DataFrame(file_json)\n",
    "df['id'] = df['id'].apply(pd.to_numeric)\n",
    "largest_id = df.sort_values('id', ascending=False).head(1)\n",
    "largest_id = largest_id.iloc[0,0]\n",
    "print(largest_id)"
   ]
  },
  {
   "cell_type": "code",
   "execution_count": null,
   "id": "53b74bbb",
   "metadata": {
    "scrolled": true
   },
   "outputs": [],
   "source": [
    "# Looping through all the requests, save responses to local and S3\n",
    "response_collection = []\n",
    "for i in range(1,largest_id+1):\n",
    "    url = baseURL.format(i, api_key)\n",
    "    try:\n",
    "        response = requests.get(url, headers = headers)\n",
    "        response.raise_for_status()\n",
    "        print(i)\n",
    "        response_collection.append(response.json())\n",
    "        time.sleep(0.1)\n",
    "    except HTTPError as http_err:\n",
    "        print(f'HTTP error occurred: {http_err}')\n",
    "    except Exception as err:\n",
    "        print(f'Other error occurred: {err}')\n",
    "    else:\n",
    "        print('Success!')\n",
    "    \n",
    "with open('/'.join([raw_folder, 'data_full.json']), 'w', encoding='utf-8') as f:\n",
    "    json.dump(response_collection, f, ensure_ascii=False, indent=4)\n",
    "print(\"Responses collected!\")\n",
    "\n",
    "# Upload raw file to s3\n",
    "s3_client.upload_file('/'.join([raw_folder, 'data_full.json']), \"ginventory-bucket\", '/'.join([raw_folder, 'data_full.json']))"
   ]
  },
  {
   "cell_type": "markdown",
   "id": "bd127aad",
   "metadata": {},
   "source": [
    "# Read in requests from file"
   ]
  },
  {
   "cell_type": "code",
   "execution_count": 2,
   "id": "c2971fec",
   "metadata": {
    "scrolled": true
   },
   "outputs": [],
   "source": [
    "# Read from local file\n",
    "with open('/'.join([raw_folder, 'data_full.json']), 'r', encoding='utf-8') as file:\n",
    "    file_json = json.load(file)"
   ]
  },
  {
   "cell_type": "code",
   "execution_count": 3,
   "id": "571ebe72",
   "metadata": {},
   "outputs": [],
   "source": [
    "# Data cleaning\n",
    "df = pd.json_normalize(file_json)\n",
    "df = df.drop(['direct_purchase_url', 'user_rating', 'in_wishlist', 'in_cabinet', 'purchase_links.data',\n",
    "              'perfect_tonics.data','perfect_garnishes.data', 'perfect_gins.data', 'description.content', \n",
    "              'description.google_translation', 'description.original_content'], axis=1)\n",
    "\n",
    "\n",
    "# Correct abv values where format is ##/##, first number is taken\n",
    "#df['abv'] = df[df[\"abv\"].str.contains(\"/\", na=False)].abv.str.split('/').str.get(0).str.strip()\n",
    "df['abv'] = np.where(df[\"abv\"].str.contains(\"/\", na=False), df['abv'].str.split('/').str.get(0).str.strip(), df['abv'])\n",
    "\n",
    "# Correct values with % in them, change commas to dots\n",
    "df['abv'] = df['abv'].replace('%','', regex=True).replace(',','.', regex=True)\n",
    "\n",
    "# Handling numeric columns to adhere to correct data types in downstream pipeline\n",
    "df['abv'] = pd.to_numeric(arg=df['abv'] ,errors='coerce')\n",
    "df['average_rating'] = df['average_rating'].apply(pd.to_numeric)\n",
    "\n",
    "# Fill NA with 0, so we can downcast all values to integer\n",
    "df['rating_count'] = df['rating_count'].fillna(0)\n",
    "df['rating_count'] = pd.to_numeric(arg=df['rating_count'],downcast='integer')\n",
    "\n",
    "# Correcting country column.\n",
    "# Handling the case where country format = country / country (eg.: Switzerland / United States)\n",
    "#df['country'] = df[df['country'].str.contains('/', na=False)].country.str.split('/').str.get(0).str.strip()\n",
    "df['country'] = np.where(df['country'].str.contains('/', na=False), df['country'].str.split('/').str.get(0).str.strip(), df['country'])\n",
    "\n",
    "# Country names that do not adhere to ISO country naming standards are replaced\n",
    "country_corrections = {\n",
    "    'Vietnam': 'Viet Nam',\n",
    "    'Russia' : 'Russian Federation',\n",
    "    'Taiwan' : 'Taiwan, Province of China',\n",
    "    'U.S. Virgin Islands' : 'Virgin Islands, U.s.',\n",
    "    'Hong Kong SAR China' : 'Hong Kong',\n",
    "    'Unknown or Invalid Region' : None,\n",
    "    '' : None,\n",
    "    }\n",
    "\n",
    "for i in country_corrections:\n",
    "    df['country'] = np.where(df.country == i, country_corrections[i], df['country'])\n",
    "\n",
    "df['country'] = np.where(df.producer == 'Little Brown Dog Spirits', 'United Kingdom', df['country'])\n",
    "\n",
    "# We drop the remaining rows (5) without valid country values.\n",
    "df = df[df.country.isna()==False]\n",
    "\n",
    "\n",
    "df_gin = df[df.type == 'gin']\n",
    "df_garnish = df[df.type == 'garnish']\n",
    "df_garnish = df_garnish[['id', 'type', 'name']]\n",
    "df_tonic = df[df.type == 'tonic']\n"
   ]
  },
  {
   "cell_type": "code",
   "execution_count": 4,
   "id": "d08f1c02",
   "metadata": {},
   "outputs": [],
   "source": [
    "# Save normalized tables to local and S3\n",
    "os.makedirs(normalized_folder, exist_ok=True)\n",
    "df_gin.to_csv('/'.join([normalized_folder, 'gins.csv']), sep=';', index=False)\n",
    "df_garnish.to_csv('/'.join([normalized_folder, 'garnishes.csv']), sep=';', index=False)\n",
    "df_tonic.to_csv('/'.join([normalized_folder, 'tonics.csv']), sep=';', index=False)\n",
    "\n",
    "s3_client.upload_file('/'.join([normalized_folder, 'gins.csv']), \"ginventory-bucket\", '/'.join([normalized_folder, 'gins.csv']))\n",
    "s3_client.upload_file('/'.join([normalized_folder, 'garnishes.csv']), \"ginventory-bucket\", '/'.join([normalized_folder, 'garnishes.csv']))\n",
    "s3_client.upload_file('/'.join([normalized_folder, 'tonics.csv']), \"ginventory-bucket\", '/'.join([normalized_folder, 'tonics.csv']))\n"
   ]
  },
  {
   "cell_type": "code",
   "execution_count": 38,
   "id": "85e252a6",
   "metadata": {},
   "outputs": [],
   "source": [
    "# Extract relationships between gins, garnishes and tonics\n",
    "# These tables will form our many-to-many translation tables in our model\n",
    "\n",
    "df = pd.DataFrame(file_json)\n",
    "df = df[df.type == 'gin']\n",
    "\n",
    "# Prepare dataframe with the gin->perfect tonic relationship\n",
    "df[\"perfect_tonics\"] = df[\"perfect_tonics\"].str[\"data\"]\n",
    "df_perfect_tonics = df.explode(\"perfect_tonics\")\n",
    "df_perfect_tonics = pd.concat(\n",
    "    [\n",
    "        df_perfect_tonics,\n",
    "        df_perfect_tonics.pop(\"perfect_tonics\").apply(pd.Series).add_prefix(\"perfect_tonics_\"),\n",
    "    ], axis=1)\n",
    "\n",
    "# Select the necessary columns, drop NA, change data types\n",
    "df_perfect_tonics = df_perfect_tonics[['id', 'perfect_tonics_id']]\n",
    "df_perfect_tonics.dropna(inplace = True)\n",
    "df_perfect_tonics = df_perfect_tonics.astype(int)\n",
    "\n",
    "# Save\n",
    "df_perfect_tonics.to_csv('/'.join([normalized_folder, 'perfect_tonics.csv']), sep=';', index=False)\n",
    "s3_client.upload_file('/'.join([normalized_folder, 'perfect_tonics.csv']), \"ginventory-bucket\", '/'.join([normalized_folder, 'perfect_tonics.csv']))\n",
    "\n",
    "# Prepare dataframe with the gin->perfect garnish relationship\n",
    "df[\"perfect_garnishes\"] = df[\"perfect_garnishes\"].str[\"data\"]\n",
    "df_perfect_garnishes = df.explode(\"perfect_garnishes\")\n",
    "df_perfect_garnishes = pd.concat(\n",
    "    [\n",
    "        df_perfect_garnishes,\n",
    "        df_perfect_garnishes.pop(\"perfect_garnishes\")\n",
    "        .apply(pd.Series)\n",
    "        .add_prefix(\"perfect_garnishes_\"),\n",
    "    ], axis=1)\n",
    "\n",
    "# Select the necessary columns, drop NA, change data types\n",
    "df_perfect_garnishes = df_perfect_garnishes[['id', 'perfect_garnishes_id']]\n",
    "df_perfect_garnishes.dropna(inplace = True)\n",
    "df_perfect_garnishes = df_perfect_garnishes.astype(int)\n",
    "\n",
    "# Save\n",
    "df_perfect_garnishes.to_csv('/'.join([normalized_folder, 'perfect_garnishes.csv']), sep=';', index=False)\n",
    "s3_client.upload_file('/'.join([normalized_folder, 'perfect_garnishes.csv']), \"ginventory-bucket\", '/'.join([normalized_folder, 'perfect_garnishes.csv']))"
   ]
  },
  {
   "cell_type": "markdown",
   "id": "07543c29",
   "metadata": {
    "scrolled": true
   },
   "source": [
    "## Exploring our main dataset\n"
   ]
  },
  {
   "cell_type": "code",
   "execution_count": 7,
   "id": "f4131877",
   "metadata": {},
   "outputs": [
    {
     "name": "stdout",
     "output_type": "stream",
     "text": [
      "Total number of gins in our dataset: 7529\n",
      "Total number of garnishes in our dataset: 229\n",
      "Total number of tonics in our dataset: 676\n",
      "4785 Gins have at least one garnish indicated as a perfect match, 9641 perfect matches in total.\n",
      "4646 Gins have at least one tonic indicated as a perfect match, 7880 perfect matches in total.\n"
     ]
    }
   ],
   "source": [
    "#  General counts in the dataset\n",
    "print(f'Total number of gins in our dataset: {df_gin.id.count()}')\n",
    "print(f'Total number of garnishes in our dataset: {df_garnish.id.count()}')\n",
    "print(f'Total number of tonics in our dataset: {df_tonic.id.count()}')\n",
    "\n",
    "print(f'{df_perfect_garnishes.nunique().id} Gins have at least one garnish indicated as a perfect match, {df_perfect_garnishes.perfect_garnishes_id.count()} perfect matches in total.')\n",
    "print(f'{df_perfect_tonics.nunique().id} Gins have at least one tonic indicated as a perfect match, {df_perfect_tonics.perfect_tonics_id.count()} perfect matches in total.')\n"
   ]
  },
  {
   "cell_type": "code",
   "execution_count": 67,
   "id": "9801851f",
   "metadata": {},
   "outputs": [
    {
     "data": {
      "text/html": [
       "<div>\n",
       "<style scoped>\n",
       "    .dataframe tbody tr th:only-of-type {\n",
       "        vertical-align: middle;\n",
       "    }\n",
       "\n",
       "    .dataframe tbody tr th {\n",
       "        vertical-align: top;\n",
       "    }\n",
       "\n",
       "    .dataframe thead th {\n",
       "        text-align: right;\n",
       "    }\n",
       "</style>\n",
       "<table border=\"1\" class=\"dataframe\">\n",
       "  <thead>\n",
       "    <tr style=\"text-align: right;\">\n",
       "      <th></th>\n",
       "      <th>name</th>\n",
       "      <th>average_rating</th>\n",
       "    </tr>\n",
       "  </thead>\n",
       "  <tbody>\n",
       "    <tr>\n",
       "      <th>1023</th>\n",
       "      <td>Gin Ceret</td>\n",
       "      <td>10.0</td>\n",
       "    </tr>\n",
       "    <tr>\n",
       "      <th>3266</th>\n",
       "      <td>Dancing Sands Dry Gin - (Also known as Sacred ...</td>\n",
       "      <td>9.9</td>\n",
       "    </tr>\n",
       "    <tr>\n",
       "      <th>2120</th>\n",
       "      <td>Spitzmund Gin Sherry Cask Reserve</td>\n",
       "      <td>9.9</td>\n",
       "    </tr>\n",
       "  </tbody>\n",
       "</table>\n",
       "</div>"
      ],
      "text/plain": [
       "                                                   name  average_rating\n",
       "1023                                          Gin Ceret            10.0\n",
       "3266  Dancing Sands Dry Gin - (Also known as Sacred ...             9.9\n",
       "2120                  Spitzmund Gin Sherry Cask Reserve             9.9"
      ]
     },
     "execution_count": 67,
     "metadata": {},
     "output_type": "execute_result"
    }
   ],
   "source": [
    "# Best rated gins\n",
    "df_gin_explore = df_gin[[\"name\", \"average_rating\"]]\n",
    "df_gin_explore.sort_values(\"average_rating\", ascending=False).head(3)"
   ]
  },
  {
   "cell_type": "code",
   "execution_count": 68,
   "id": "52284e13",
   "metadata": {},
   "outputs": [
    {
     "data": {
      "text/plain": [
       "array([[<AxesSubplot:title={'center':'average_rating'}>]], dtype=object)"
      ]
     },
     "execution_count": 68,
     "metadata": {},
     "output_type": "execute_result"
    },
    {
     "data": {
      "image/png": "[encoded data removed]",
      "text/plain": [
       "<Figure size 432x288 with 1 Axes>"
      ]
     },
     "metadata": {
      "needs_background": "light"
     },
     "output_type": "display_data"
    }
   ],
   "source": [
    "# Gin avergae rating histogram\n",
    "df_gin.hist(column='average_rating' ,bins=10)"
   ]
  },
  {
   "cell_type": "code",
   "execution_count": 69,
   "id": "89e83c6a",
   "metadata": {},
   "outputs": [
    {
     "data": {
      "text/html": [
       "<div>\n",
       "<style scoped>\n",
       "    .dataframe tbody tr th:only-of-type {\n",
       "        vertical-align: middle;\n",
       "    }\n",
       "\n",
       "    .dataframe tbody tr th {\n",
       "        vertical-align: top;\n",
       "    }\n",
       "\n",
       "    .dataframe thead th {\n",
       "        text-align: right;\n",
       "    }\n",
       "</style>\n",
       "<table border=\"1\" class=\"dataframe\">\n",
       "  <thead>\n",
       "    <tr style=\"text-align: right;\">\n",
       "      <th></th>\n",
       "      <th>name</th>\n",
       "      <th>rating_count</th>\n",
       "    </tr>\n",
       "  </thead>\n",
       "  <tbody>\n",
       "    <tr>\n",
       "      <th>1208</th>\n",
       "      <td>Hendrick's Gin</td>\n",
       "      <td>9151</td>\n",
       "    </tr>\n",
       "    <tr>\n",
       "      <th>1594</th>\n",
       "      <td>Monkey 47 Schwarzwald Dry Gin</td>\n",
       "      <td>7318</td>\n",
       "    </tr>\n",
       "    <tr>\n",
       "      <th>1040</th>\n",
       "      <td>Gin Mare</td>\n",
       "      <td>7022</td>\n",
       "    </tr>\n",
       "  </tbody>\n",
       "</table>\n",
       "</div>"
      ],
      "text/plain": [
       "                               name  rating_count\n",
       "1208                 Hendrick's Gin          9151\n",
       "1594  Monkey 47 Schwarzwald Dry Gin          7318\n",
       "1040                       Gin Mare          7022"
      ]
     },
     "execution_count": 69,
     "metadata": {},
     "output_type": "execute_result"
    }
   ],
   "source": [
    "# Most rated gins \n",
    "df_gin_explore = df_gin[[\"name\", \"rating_count\"]]\n",
    "df_gin_explore.sort_values(\"rating_count\", ascending=False).head(3)"
   ]
  },
  {
   "cell_type": "code",
   "execution_count": 79,
   "id": "cd22ce3a",
   "metadata": {},
   "outputs": [
    {
     "data": {
      "text/plain": [
       "array([[<AxesSubplot:title={'center':'rating_count'}>]], dtype=object)"
      ]
     },
     "execution_count": 79,
     "metadata": {},
     "output_type": "execute_result"
    },
    {
     "data": {
      "image/png": "[encoded data removed]",
      "text/plain": [
       "<Figure size 432x288 with 1 Axes>"
      ]
     },
     "metadata": {
      "needs_background": "light"
     },
     "output_type": "display_data"
    }
   ],
   "source": [
    "# Gin ratings count histogram\n",
    "# Most gins\n",
    "df_gin.hist(column='rating_count' ,bins=100, range=[0, 10000])"
   ]
  },
  {
   "cell_type": "code",
   "execution_count": 80,
   "id": "32c1cd1c",
   "metadata": {},
   "outputs": [
    {
     "data": {
      "text/html": [
       "<div>\n",
       "<style scoped>\n",
       "    .dataframe tbody tr th:only-of-type {\n",
       "        vertical-align: middle;\n",
       "    }\n",
       "\n",
       "    .dataframe tbody tr th {\n",
       "        vertical-align: top;\n",
       "    }\n",
       "\n",
       "    .dataframe thead th {\n",
       "        text-align: right;\n",
       "    }\n",
       "</style>\n",
       "<table border=\"1\" class=\"dataframe\">\n",
       "  <thead>\n",
       "    <tr style=\"text-align: right;\">\n",
       "      <th></th>\n",
       "      <th>average_rating</th>\n",
       "    </tr>\n",
       "    <tr>\n",
       "      <th>producer</th>\n",
       "      <th></th>\n",
       "    </tr>\n",
       "  </thead>\n",
       "  <tbody>\n",
       "    <tr>\n",
       "      <th>Spitzmund</th>\n",
       "      <td>9.666667</td>\n",
       "    </tr>\n",
       "    <tr>\n",
       "      <th>Awardoo UG</th>\n",
       "      <td>9.500000</td>\n",
       "    </tr>\n",
       "    <tr>\n",
       "      <th>Norlyk Distillery ApS</th>\n",
       "      <td>9.475000</td>\n",
       "    </tr>\n",
       "  </tbody>\n",
       "</table>\n",
       "</div>"
      ],
      "text/plain": [
       "                       average_rating\n",
       "producer                             \n",
       "Spitzmund                    9.666667\n",
       "Awardoo UG                   9.500000\n",
       "Norlyk Distillery ApS        9.475000"
      ]
     },
     "execution_count": 80,
     "metadata": {},
     "output_type": "execute_result"
    }
   ],
   "source": [
    "# Best rated producer\n",
    "df_gin_explore = df_gin[[\"producer\", \"average_rating\"]]\n",
    "df_gin_explore.groupby('producer').mean().sort_values(\"average_rating\",ascending=False).head(3)"
   ]
  },
  {
   "cell_type": "code",
   "execution_count": 81,
   "id": "7a17d982",
   "metadata": {},
   "outputs": [
    {
     "data": {
      "text/plain": [
       "array([[<AxesSubplot:title={'center':'average_rating'}>]], dtype=object)"
      ]
     },
     "execution_count": 81,
     "metadata": {},
     "output_type": "execute_result"
    },
    {
     "data": {
      "image/png": "[encoded data removed]",
      "text/plain": [
       "<Figure size 432x288 with 1 Axes>"
      ]
     },
     "metadata": {
      "needs_background": "light"
     },
     "output_type": "display_data"
    }
   ],
   "source": [
    "# Producer average ratings histogram\n",
    "df_gin.groupby('producer').mean().hist(column='average_rating' ,bins=10)"
   ]
  },
  {
   "cell_type": "markdown",
   "id": "81a740c1",
   "metadata": {},
   "source": [
    "# AWS"
   ]
  },
  {
   "cell_type": "markdown",
   "id": "452d0640",
   "metadata": {},
   "source": [
    "### IAM"
   ]
  },
  {
   "cell_type": "code",
   "execution_count": 5,
   "id": "6a75ef4d",
   "metadata": {},
   "outputs": [
    {
     "name": "stdout",
     "output_type": "stream",
     "text": [
      "1.1 Creating a new IAM Role\n",
      "An error occurred (EntityAlreadyExists) when calling the CreateRole operation: Role with name DWH_IAM_ROLE_NAME already exists.\n",
      "1.3 Get the IAM role ARN\n",
      "arn:aws:iam::752709659342:role/DWH_IAM_ROLE_NAME\n"
     ]
    }
   ],
   "source": [
    "# Create IAM role so we can access S3 from Redshift\n",
    "try:\n",
    "    print(\"1.1 Creating a new IAM Role\") \n",
    "    dwhRole = iam.create_role(\n",
    "        Path='/',\n",
    "        RoleName='DWH_IAM_ROLE_NAME',\n",
    "        Description = \"Allows Redshift clusters to call AWS services on your behalf.\",\n",
    "        AssumeRolePolicyDocument=json.dumps(\n",
    "            {'Statement': [{'Action': 'sts:AssumeRole',\n",
    "               'Effect': 'Allow',\n",
    "               'Principal': {'Service': 'redshift.amazonaws.com'}}],\n",
    "             'Version': '2012-10-17'})\n",
    "    )    \n",
    "except Exception as e:\n",
    "    print(e)\n",
    "\n",
    "# Attach S3 access policy to our new role\n",
    "\n",
    "iam.attach_role_policy(RoleName='DWH_IAM_ROLE_NAME',\n",
    "                       PolicyArn=\"arn:aws:iam::aws:policy/AmazonS3ReadOnlyAccess\"\n",
    "                      )['ResponseMetadata']['HTTPStatusCode']\n",
    "\n",
    "print(\"1.3 Get the IAM role ARN\")\n",
    "roleArn = iam.get_role(RoleName='DWH_IAM_ROLE_NAME')['Role']['Arn']\n",
    "\n",
    "print(roleArn)"
   ]
  },
  {
   "cell_type": "markdown",
   "id": "b593e6ed",
   "metadata": {},
   "source": [
    "### Redshift"
   ]
  },
  {
   "cell_type": "code",
   "execution_count": 8,
   "id": "15a51de3",
   "metadata": {},
   "outputs": [],
   "source": [
    "# Create redshift cluster\n",
    "try:\n",
    "    response = redshift.create_cluster(\n",
    "        ClusterType= 'single-node',\n",
    "        NodeType='dc2.large',\n",
    "        NumberOfNodes=1,\n",
    "\n",
    "        #Identifiers & Credentials\n",
    "        DBName='ginventory_auto',\n",
    "        ClusterIdentifier='ginventoryDWH',\n",
    "        MasterUsername='dwhuser',\n",
    "        MasterUserPassword='Admin123456',\n",
    "        \n",
    "        #Roles (for s3 access)\n",
    "        IamRoles=[roleArn]  \n",
    "    )\n",
    "except Exception as e:\n",
    "    print(e)"
   ]
  },
  {
   "cell_type": "code",
   "execution_count": 6,
   "id": "a9a2c003",
   "metadata": {},
   "outputs": [
    {
     "data": {
      "text/html": [
       "<div>\n",
       "<style scoped>\n",
       "    .dataframe tbody tr th:only-of-type {\n",
       "        vertical-align: middle;\n",
       "    }\n",
       "\n",
       "    .dataframe tbody tr th {\n",
       "        vertical-align: top;\n",
       "    }\n",
       "\n",
       "    .dataframe thead th {\n",
       "        text-align: right;\n",
       "    }\n",
       "</style>\n",
       "<table border=\"1\" class=\"dataframe\">\n",
       "  <thead>\n",
       "    <tr style=\"text-align: right;\">\n",
       "      <th></th>\n",
       "      <th>Key</th>\n",
       "      <th>Value</th>\n",
       "    </tr>\n",
       "  </thead>\n",
       "  <tbody>\n",
       "    <tr>\n",
       "      <th>0</th>\n",
       "      <td>ClusterIdentifier</td>\n",
       "      <td>ginventorydwh</td>\n",
       "    </tr>\n",
       "    <tr>\n",
       "      <th>1</th>\n",
       "      <td>NodeType</td>\n",
       "      <td>dc2.large</td>\n",
       "    </tr>\n",
       "    <tr>\n",
       "      <th>2</th>\n",
       "      <td>ClusterStatus</td>\n",
       "      <td>available</td>\n",
       "    </tr>\n",
       "    <tr>\n",
       "      <th>3</th>\n",
       "      <td>MasterUsername</td>\n",
       "      <td>dwhuser</td>\n",
       "    </tr>\n",
       "    <tr>\n",
       "      <th>4</th>\n",
       "      <td>DBName</td>\n",
       "      <td>ginventory_auto</td>\n",
       "    </tr>\n",
       "    <tr>\n",
       "      <th>5</th>\n",
       "      <td>Endpoint</td>\n",
       "      <td>{'Address': 'ginventorydwh.czo11jameqnn.eu-cen...</td>\n",
       "    </tr>\n",
       "    <tr>\n",
       "      <th>6</th>\n",
       "      <td>VpcId</td>\n",
       "      <td>vpc-01c2590b227c9dbaf</td>\n",
       "    </tr>\n",
       "    <tr>\n",
       "      <th>7</th>\n",
       "      <td>NumberOfNodes</td>\n",
       "      <td>1</td>\n",
       "    </tr>\n",
       "  </tbody>\n",
       "</table>\n",
       "</div>"
      ],
      "text/plain": [
       "                 Key                                              Value\n",
       "0  ClusterIdentifier                                      ginventorydwh\n",
       "1           NodeType                                          dc2.large\n",
       "2      ClusterStatus                                          available\n",
       "3     MasterUsername                                            dwhuser\n",
       "4             DBName                                    ginventory_auto\n",
       "5           Endpoint  {'Address': 'ginventorydwh.czo11jameqnn.eu-cen...\n",
       "6              VpcId                              vpc-01c2590b227c9dbaf\n",
       "7      NumberOfNodes                                                  1"
      ]
     },
     "execution_count": 6,
     "metadata": {},
     "output_type": "execute_result"
    }
   ],
   "source": [
    "# Prettify redshift cluster properties\n",
    "def prettyRedshiftProps(props):\n",
    "    keysToShow = [\"ClusterIdentifier\", \"NodeType\", \"ClusterStatus\", \"MasterUsername\", \"DBName\", \"Endpoint\", \"NumberOfNodes\", 'VpcId']\n",
    "    x = [(k, v) for k,v in props.items() if k in keysToShow]\n",
    "    return pd.DataFrame(data=x, columns=[\"Key\", \"Value\"])\n",
    "\n",
    "myClusterProps = redshift.describe_clusters(ClusterIdentifier='ginventoryDWH')['Clusters'][0]\n",
    "prettyRedshiftProps(myClusterProps)"
   ]
  },
  {
   "cell_type": "code",
   "execution_count": null,
   "id": "20414412",
   "metadata": {},
   "outputs": [],
   "source": [
    "# Set a VPC security group rule to authorize ingress to the cluster's VPC Security Group\n",
    "# Extract cluster info\n",
    "\n",
    "vpc_security_group_id = myClusterProps[\"VpcSecurityGroups\"][0][\"VpcSecurityGroupId\"]\n",
    "try:\n",
    "    # Extract security group for the VPC\n",
    "    vpc_sg = ec2.SecurityGroup(id = vpc_security_group_id)\n",
    "    \n",
    "    # Authorize connection to the VPC\n",
    "    vpc_sg.authorize_ingress(\n",
    "        GroupName = vpc_sg.group_name,\n",
    "        CidrIp = \"0.0.0.0/0\",\n",
    "        IpProtocol = \"TCP\",\n",
    "        FromPort = 5439,\n",
    "        ToPort = 5439\n",
    "    )\n",
    "    print(\"Ingress to the VPC authorized\")\n",
    "    \n",
    "except Exception as e:\n",
    "    \n",
    "    # Check if the error is a duplication error\n",
    "    if \"InvalidPermission.Duplicate\" in str(e):\n",
    "        print(\"Rule requested already exists\")\n",
    "    else:\n",
    "        print(e)"
   ]
  },
  {
   "cell_type": "code",
   "execution_count": 7,
   "id": "2d0f716e",
   "metadata": {},
   "outputs": [],
   "source": [
    "# Drop and create all tables\n",
    "\n",
    "for statement in sql_statements.drop_statements:\n",
    "    response = redshift_data.execute_statement(\n",
    "        ClusterIdentifier='ginventorydwh',\n",
    "        Database='ginventory_auto',\n",
    "        DbUser='dwhuser',\n",
    "        Sql=statement\n",
    "        )\n",
    " \n",
    "for statement in sql_statements.create_statements:\n",
    "    response = redshift_data.execute_statement(\n",
    "        ClusterIdentifier='ginventorydwh',\n",
    "        Database='ginventory_auto',\n",
    "        DbUser='dwhuser',\n",
    "        Sql=statement\n",
    "        )"
   ]
  },
  {
   "cell_type": "code",
   "execution_count": 8,
   "id": "843f7dd7",
   "metadata": {},
   "outputs": [],
   "source": [
    "# Load tables from S3\n",
    "\n",
    "file_names = ['garnishes', 'gins', 'perfect_garnishes', 'perfect_tonics', 'tonics']\n",
    "\n",
    "for file_name in file_names:\n",
    "    file_path = f\"s3://ginventory-bucket/normalized_data/{file_name}.csv\"\n",
    "\n",
    "    sql_query = \"\"\"\n",
    "        COPY {}\n",
    "        FROM '{}'\n",
    "        IAM_ROLE '{}' \n",
    "        FORMAT AS csv\n",
    "        IGNOREHEADER 1\n",
    "        delimiter ';'\n",
    "    \"\"\".format(file_name, file_path, roleArn)\n",
    "\n",
    "    response = redshift_data.execute_statement(\n",
    "        ClusterIdentifier='ginventorydwh',\n",
    "        Database='ginventory_auto',\n",
    "        DbUser='dwhuser',\n",
    "        Sql=sql_query\n",
    "    )\n",
    "\n",
    "# Load countries data from SQL inserts\n",
    "response = redshift_data.execute_statement(\n",
    "    ClusterIdentifier='ginventorydwh',\n",
    "    Database='ginventory_auto',\n",
    "    DbUser='dwhuser',\n",
    "    Sql=sql_statements.INSERT_INTO_COUNTRIES\n",
    "    )"
   ]
  },
  {
   "cell_type": "code",
   "execution_count": 55,
   "id": "0cea6b01",
   "metadata": {},
   "outputs": [],
   "source": [
    "\n",
    "\n",
    "def redshift_get_statement_result_to_dataframe(response_id):\n",
    "    '''\n",
    "    Returns pandas dataframe of the statement Id passed from the response object \n",
    "    of the redshift-data.execute_statement method. If statement has no result set\n",
    "    a message is returned.\n",
    "    response = redshift_data.execute_statement(...)\n",
    "    response_id = response['Id]\n",
    "    '''\n",
    "    while True:\n",
    "        describe_obj = redshift_data.describe_statement(Id=response_id)\n",
    "        status = describe_obj['Status']\n",
    "        if status == 'ERROR' or status == 'FINISHED':\n",
    "            if describe_obj['HasResultSet'] == True:\n",
    "                statement_result = redshift_data.get_statement_result(Id=response_id)\n",
    "                try:\n",
    "                    df = pd.DataFrame(statement_result['Records'])\n",
    "                    df.rename(columns=pd.DataFrame(statement_result['ColumnMetadata']).name, inplace=True)\n",
    "                    df = df.apply(pd.Series)\n",
    "\n",
    "                    for column in df.columns:\n",
    "                        df[column] = df[column].apply(pd.Series)\n",
    "                    return df\n",
    "                except Exception as e:\n",
    "                    print('Query status: ' + status)\n",
    "                    print('Error: ' + statement_result['Error'])\n",
    "            else:\n",
    "                return 'Statement has no result set. Call with sql statement that produces a result set.'\n",
    "            break\n",
    "        else:\n",
    "            time.sleep(1)\n",
    "\n"
   ]
  },
  {
   "cell_type": "code",
   "execution_count": 56,
   "id": "8ea7de9f",
   "metadata": {},
   "outputs": [
    {
     "data": {
      "text/html": [
       "<div>\n",
       "<style scoped>\n",
       "    .dataframe tbody tr th:only-of-type {\n",
       "        vertical-align: middle;\n",
       "    }\n",
       "\n",
       "    .dataframe tbody tr th {\n",
       "        vertical-align: top;\n",
       "    }\n",
       "\n",
       "    .dataframe thead th {\n",
       "        text-align: right;\n",
       "    }\n",
       "</style>\n",
       "<table border=\"1\" class=\"dataframe\">\n",
       "  <thead>\n",
       "    <tr style=\"text-align: right;\">\n",
       "      <th></th>\n",
       "      <th>id</th>\n",
       "      <th>type</th>\n",
       "      <th>name</th>\n",
       "      <th>first_name</th>\n",
       "      <th>second_name</th>\n",
       "      <th>picture_url</th>\n",
       "      <th>producer</th>\n",
       "      <th>country</th>\n",
       "      <th>abv</th>\n",
       "      <th>average_rating</th>\n",
       "      <th>rating_count</th>\n",
       "    </tr>\n",
       "  </thead>\n",
       "  <tbody>\n",
       "    <tr>\n",
       "      <th>0</th>\n",
       "      <td>1</td>\n",
       "      <td>gin</td>\n",
       "      <td>1085 Toledo Gin</td>\n",
       "      <td></td>\n",
       "      <td></td>\n",
       "      <td>https://ginventory.reed.be/api/v2/products/1/p...</td>\n",
       "      <td>Licores Caro</td>\n",
       "      <td>Spain</td>\n",
       "      <td>40.0</td>\n",
       "      <td>6.6</td>\n",
       "      <td>74</td>\n",
       "    </tr>\n",
       "    <tr>\n",
       "      <th>1</th>\n",
       "      <td>6</td>\n",
       "      <td>gin</td>\n",
       "      <td>119 Gin</td>\n",
       "      <td></td>\n",
       "      <td></td>\n",
       "      <td>https://ginventory.reed.be/api/v2/products/6/p...</td>\n",
       "      <td>Carmelitano Distilleries</td>\n",
       "      <td>Spain</td>\n",
       "      <td>40.0</td>\n",
       "      <td>6.9</td>\n",
       "      <td>39</td>\n",
       "    </tr>\n",
       "    <tr>\n",
       "      <th>2</th>\n",
       "      <td>10</td>\n",
       "      <td>gin</td>\n",
       "      <td>12 Bridges Gin - (Discontinued)</td>\n",
       "      <td>12 Bridges Gin</td>\n",
       "      <td>(Discontinued)</td>\n",
       "      <td>https://ginventory.reed.be/api/v2/products/10/...</td>\n",
       "      <td>Integrity Spirits</td>\n",
       "      <td>United States</td>\n",
       "      <td>45.0</td>\n",
       "      <td>6.4</td>\n",
       "      <td>43</td>\n",
       "    </tr>\n",
       "    <tr>\n",
       "      <th>3</th>\n",
       "      <td>16</td>\n",
       "      <td>gin</td>\n",
       "      <td>12/11 Gin</td>\n",
       "      <td></td>\n",
       "      <td></td>\n",
       "      <td>https://ginventory.reed.be/api/v2/products/16/...</td>\n",
       "      <td>Destilerías Liber</td>\n",
       "      <td>Spain</td>\n",
       "      <td>42.5</td>\n",
       "      <td>6.9</td>\n",
       "      <td>23</td>\n",
       "    </tr>\n",
       "    <tr>\n",
       "      <th>4</th>\n",
       "      <td>22</td>\n",
       "      <td>gin</td>\n",
       "      <td>12/11 Gin Aurum Limited Edition</td>\n",
       "      <td></td>\n",
       "      <td></td>\n",
       "      <td>https://ginventory.reed.be/api/v2/products/22/...</td>\n",
       "      <td>Destilerías Liber</td>\n",
       "      <td>Spain</td>\n",
       "      <td>42.5</td>\n",
       "      <td>7.4</td>\n",
       "      <td>34</td>\n",
       "    </tr>\n",
       "    <tr>\n",
       "      <th>5</th>\n",
       "      <td>27</td>\n",
       "      <td>gin</td>\n",
       "      <td>1495 Gin Interpretatio</td>\n",
       "      <td></td>\n",
       "      <td></td>\n",
       "      <td>https://ginventory.reed.be/api/v2/products/27/...</td>\n",
       "      <td>Maison Villevert</td>\n",
       "      <td>France</td>\n",
       "      <td>45.0</td>\n",
       "      <td>7.5</td>\n",
       "      <td>5</td>\n",
       "    </tr>\n",
       "    <tr>\n",
       "      <th>6</th>\n",
       "      <td>28</td>\n",
       "      <td>gin</td>\n",
       "      <td>1495 Gin Verbatim</td>\n",
       "      <td></td>\n",
       "      <td></td>\n",
       "      <td>https://ginventory.reed.be/api/v2/products/28/...</td>\n",
       "      <td>Maison Villevert</td>\n",
       "      <td>France</td>\n",
       "      <td>45.0</td>\n",
       "      <td>7.3</td>\n",
       "      <td>8</td>\n",
       "    </tr>\n",
       "    <tr>\n",
       "      <th>7</th>\n",
       "      <td>29</td>\n",
       "      <td>gin</td>\n",
       "      <td>1528 Cocoa Gin</td>\n",
       "      <td></td>\n",
       "      <td></td>\n",
       "      <td>https://ginventory.reed.be/api/v2/products/29/...</td>\n",
       "      <td>Pico Cacao</td>\n",
       "      <td>Spain</td>\n",
       "      <td>40.0</td>\n",
       "      <td>7.6</td>\n",
       "      <td>80</td>\n",
       "    </tr>\n",
       "    <tr>\n",
       "      <th>8</th>\n",
       "      <td>37</td>\n",
       "      <td>gin</td>\n",
       "      <td>1827 Wild Swan Gin</td>\n",
       "      <td></td>\n",
       "      <td></td>\n",
       "      <td>https://ginventory.reed.be/api/v2/products/37/...</td>\n",
       "      <td>Wild Swan Distilling Co.</td>\n",
       "      <td>Australia</td>\n",
       "      <td>37.0</td>\n",
       "      <td>7.5</td>\n",
       "      <td>1</td>\n",
       "    </tr>\n",
       "    <tr>\n",
       "      <th>9</th>\n",
       "      <td>38</td>\n",
       "      <td>gin</td>\n",
       "      <td>1830 Sahara Fine London Style Dry Gin</td>\n",
       "      <td></td>\n",
       "      <td></td>\n",
       "      <td>https://ginventory.reed.be/api/v2/products/38/...</td>\n",
       "      <td>Highwood Distillers</td>\n",
       "      <td>Canada</td>\n",
       "      <td>40.0</td>\n",
       "      <td>6.3</td>\n",
       "      <td>3</td>\n",
       "    </tr>\n",
       "  </tbody>\n",
       "</table>\n",
       "</div>"
      ],
      "text/plain": [
       "   id type                                   name      first_name  \\\n",
       "0   1  gin                        1085 Toledo Gin                   \n",
       "1   6  gin                                119 Gin                   \n",
       "2  10  gin        12 Bridges Gin - (Discontinued)  12 Bridges Gin   \n",
       "3  16  gin                              12/11 Gin                   \n",
       "4  22  gin        12/11 Gin Aurum Limited Edition                   \n",
       "5  27  gin                 1495 Gin Interpretatio                   \n",
       "6  28  gin                      1495 Gin Verbatim                   \n",
       "7  29  gin                         1528 Cocoa Gin                   \n",
       "8  37  gin                     1827 Wild Swan Gin                   \n",
       "9  38  gin  1830 Sahara Fine London Style Dry Gin                   \n",
       "\n",
       "      second_name                                        picture_url  \\\n",
       "0                  https://ginventory.reed.be/api/v2/products/1/p...   \n",
       "1                  https://ginventory.reed.be/api/v2/products/6/p...   \n",
       "2  (Discontinued)  https://ginventory.reed.be/api/v2/products/10/...   \n",
       "3                  https://ginventory.reed.be/api/v2/products/16/...   \n",
       "4                  https://ginventory.reed.be/api/v2/products/22/...   \n",
       "5                  https://ginventory.reed.be/api/v2/products/27/...   \n",
       "6                  https://ginventory.reed.be/api/v2/products/28/...   \n",
       "7                  https://ginventory.reed.be/api/v2/products/29/...   \n",
       "8                  https://ginventory.reed.be/api/v2/products/37/...   \n",
       "9                  https://ginventory.reed.be/api/v2/products/38/...   \n",
       "\n",
       "                   producer        country   abv average_rating  rating_count  \n",
       "0              Licores Caro          Spain  40.0            6.6            74  \n",
       "1  Carmelitano Distilleries          Spain  40.0            6.9            39  \n",
       "2         Integrity Spirits  United States  45.0            6.4            43  \n",
       "3         Destilerías Liber          Spain  42.5            6.9            23  \n",
       "4         Destilerías Liber          Spain  42.5            7.4            34  \n",
       "5          Maison Villevert         France  45.0            7.5             5  \n",
       "6          Maison Villevert         France  45.0            7.3             8  \n",
       "7                Pico Cacao          Spain  40.0            7.6            80  \n",
       "8  Wild Swan Distilling Co.      Australia  37.0            7.5             1  \n",
       "9       Highwood Distillers         Canada  40.0            6.3             3  "
      ]
     },
     "execution_count": 56,
     "metadata": {},
     "output_type": "execute_result"
    }
   ],
   "source": [
    "response = redshift_data.execute_statement(\n",
    "    ClusterIdentifier='ginventorydwh',\n",
    "    Database='ginventory_auto',\n",
    "    DbUser='dwhuser',\n",
    "    Sql='SELECT * FROM gins LIMIT 10;'\n",
    "    )\n",
    "\n",
    "redshift_get_statement_result_to_dataframe(response['Id'])"
   ]
  },
  {
   "cell_type": "code",
   "execution_count": null,
   "id": "5b51ecfa",
   "metadata": {},
   "outputs": [],
   "source": []
  }
 ],
 "metadata": {
  "kernelspec": {
   "display_name": "Python 3.9.6 64-bit",
   "language": "python",
   "name": "python3"
  },
  "language_info": {
   "codemirror_mode": {
    "name": "ipython",
    "version": 3
   },
   "file_extension": ".py",
   "mimetype": "text/x-python",
   "name": "python",
   "nbconvert_exporter": "python",
   "pygments_lexer": "ipython3",
   "version": "3.9.6"
  },
  "vscode": {
   "interpreter": {
    "hash": "548ef4a45503cf6cb57d5f5808a981105b25d5d40770224cf160d37fce6cb67e"
   }
  }
 },
 "nbformat": 4,
 "nbformat_minor": 5
}
