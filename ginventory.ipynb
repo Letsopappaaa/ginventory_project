{
 "cells": [
  {
   "cell_type": "markdown",
   "id": "9e9242fd",
   "metadata": {},
   "source": [
    "# Reverse-engineering the API\n",
    "\n",
    "The only place I was able to find a comprehensive dataset on gins is stuck behind an iOS/Android app's private API. The following is a high level description of how I accessed the base URL, API structure and API key.\n",
    "- The simplest way to approach the problem is to use an Android emulator, in this case I used Android Studio. Another option would be to use mitmproxy, but due to Android's strict Certificate Authority management it is a bit finicky to setup with a system certificate on an Android emulator.\n",
    "- I downloaded the target app APK, and installed it on the emulted device.\n",
    "- Installed ADB, and made sure to add the platform-tools folder to your PATH variable.\n",
    "- Installed HTTP Toolkit. Selected Android device via ADB as my traffic source and followed setup steps in the emulator.\n",
    "- Done! Now I can see HTTP requests coming in from the emulator.\n",
    "- All there is left to do is find the GET request that I am after, I have done this by clicking on a new item on the main page of the application. The resulting API key and structure is what I use in my code.\n"
   ]
  },
  {
   "cell_type": "code",
   "execution_count": 28,
   "id": "6272d169",
   "metadata": {},
   "outputs": [],
   "source": [
    "import configparser\n",
    "import requests\n",
    "import time\n",
    "import json\n",
    "import os\n",
    "import boto3\n",
    "import pandas as pd\n",
    "import numpy as np\n",
    "from requests.exceptions import HTTPError\n",
    "import sql_statements\n",
    "import aws_helper_functions\n",
    "\n",
    "# Variables\n",
    "config = configparser.ConfigParser()\n",
    "config.read('config.cfg')\n",
    "\n",
    "baseURL = config.get(\"REQUESTS\", \"baseURL\")\n",
    "api_key = config.get(\"REQUESTS\", \"api_key\")\n",
    "headers = {\n",
    "    'User-Agent': config.get(\"REQUESTS\", \"headers_user_agent\"),\n",
    "    'From': config.get(\"REQUESTS\", \"headers_from\")\n",
    "}\n",
    "\n",
    "raw_folder = config.get(\"FOLDER\", \"raw_folder\")\n",
    "normalized_folder = config.get(\"FOLDER\", \"normalized_folder\")\n",
    "\n",
    "#Identifiers & Credentials\n",
    "DB_NAME=config.get(\"CLUSTER\", \"DB_NAME\")\n",
    "CLUSTER_ID=config.get(\"CLUSTER\", \"CLUSTER_ID\")\n",
    "DB_USER=config.get(\"CLUSTER\", \"DB_USER\")\n",
    "DB_PASSWORD=config.get(\"CLUSTER\", \"DB_PASSWORD\")\n",
    "CLUSTER_TYPE=config.get(\"CLUSTER\", \"CLUSTER_TYPE\")\n",
    "NODE_TYPE=config.get(\"CLUSTER\", \"NODE_TYPE\")\n",
    "NUMBER_OF_NODES=config.get(\"CLUSTER\", \"NUMBER_OF_NODES\")\n",
    "DB_PORT=config.get(\"CLUSTER\", \"DB_PORT\")\n",
    "\n",
    "ROLE_NAME = config.get(\"IAM_ROLE\", \"ROLE_NAME\")\n",
    "KEY = config.get(\"AWS\", \"KEY\")\n",
    "SECRET = config.get(\"AWS\", \"SECRET\")\n",
    "REGION = config.get(\"AWS\", \"REGION\")\n",
    "\n",
    "s3_client = boto3.client(\"s3\",\n",
    "                       region_name=REGION,\n",
    "                       aws_access_key_id=KEY,\n",
    "                       aws_secret_access_key=SECRET\n",
    "                    )\n",
    "redshift = boto3.client('redshift',\n",
    "                       region_name=REGION,\n",
    "                       aws_access_key_id=KEY,\n",
    "                       aws_secret_access_key=SECRET\n",
    "                    )\n",
    "iam = boto3.client('iam',\n",
    "                       region_name=REGION,\n",
    "                       aws_access_key_id=KEY,\n",
    "                       aws_secret_access_key=SECRET\n",
    "                    )\n",
    "ec2 = boto3.resource('ec2',\n",
    "                       region_name=REGION,\n",
    "                       aws_access_key_id=KEY,\n",
    "                       aws_secret_access_key=SECRET\n",
    "                    )\n",
    "redshift_data = boto3.client('redshift-data',\n",
    "                       region_name=REGION,\n",
    "                       aws_access_key_id=KEY,\n",
    "                       aws_secret_access_key=SECRET\n",
    "                    )"
   ]
  },
  {
   "cell_type": "markdown",
   "id": "8dc5a02e",
   "metadata": {},
   "source": [
    "# Pull the data from API"
   ]
  },
  {
   "cell_type": "code",
   "execution_count": null,
   "id": "53b74bbb",
   "metadata": {
    "scrolled": true
   },
   "outputs": [],
   "source": [
    "# Run this cell if you want to run the scraper(~50 minutes), or skip and use the local file in the next cell instead.\n",
    "\n",
    "'''\n",
    "Get highest ID number from ginventory_short.json\n",
    "A version of the dataset is available from one of the first calls the app makes when establishing connection,\n",
    "with a reduced set of columns. The largest id num (8770) comes from this file (ginventory_short.json).\n",
    "'''\n",
    "with open('/'.join([raw_folder, 'ginventory_short.json']), 'r', encoding='utf-8') as file:\n",
    "    file_json = json.load(file)\n",
    "\n",
    "df = pd.DataFrame(file_json)\n",
    "df['id'] = df['id'].apply(pd.to_numeric)\n",
    "largest_id = df.sort_values('id', ascending=False).head(1)\n",
    "largest_id = largest_id.iloc[0,0]\n",
    "print(largest_id)\n",
    "\n",
    "\n",
    "'''\n",
    "Looping through all the requests, save responses to local and S3\n",
    "Collecting all the information from the API takes ~ 50 minutes!\n",
    "'''\n",
    "response_collection = []\n",
    "for i in range(1,largest_id+1):\n",
    "    url = baseURL.format(i, api_key)\n",
    "    try:\n",
    "        response = requests.get(url, headers = headers)\n",
    "        response.raise_for_status()\n",
    "        print(i)\n",
    "        response_collection.append(response.json())\n",
    "        time.sleep(0.1)\n",
    "    except HTTPError as http_err:\n",
    "        print(f'HTTP error occurred: {http_err}')\n",
    "    except Exception as err:\n",
    "        print(f'Other error occurred: {err}')\n",
    "    else:\n",
    "        print('Success!')\n",
    "    \n",
    "with open('/'.join([raw_folder, 'data_full.json']), 'w', encoding='utf-8') as f:\n",
    "    json.dump(response_collection, f, ensure_ascii=False, indent=4)\n",
    "print(\"Responses collected!\")\n",
    "\n",
    "# Upload raw file to s3\n",
    "s3_client.upload_file('/'.join([raw_folder, 'data_full.json']), \"ginventory-bucket\", '/'.join([raw_folder, 'data_full.json']))"
   ]
  },
  {
   "cell_type": "code",
   "execution_count": 29,
   "id": "c2971fec",
   "metadata": {
    "scrolled": true
   },
   "outputs": [],
   "source": [
    "# Read from local file\n",
    "with open('/'.join([raw_folder, 'data_full.json']), 'r', encoding='utf-8') as file:\n",
    "    file_json = json.load(file)"
   ]
  },
  {
   "cell_type": "markdown",
   "id": "3324f10d",
   "metadata": {},
   "source": [
    "# Data quality issues\n",
    "\n",
    "- Country and abv columns had cases where 2 values were included, seperated by /.\n",
    "- Columns that should be integer have been cast as such.\n",
    "- Country names did not always match ISO standards, in such cases the country name was replaced."
   ]
  },
  {
   "cell_type": "markdown",
   "id": "03099878",
   "metadata": {},
   "source": [
    "## Data cleaning"
   ]
  },
  {
   "cell_type": "code",
   "execution_count": 30,
   "id": "571ebe72",
   "metadata": {},
   "outputs": [],
   "source": [
    "df = pd.json_normalize(file_json)\n",
    "# Dropping columns with relationship data. This will be processed in another cell.\n",
    "df = df.drop(['direct_purchase_url', 'user_rating', 'in_wishlist', 'in_cabinet', 'purchase_links.data',\n",
    "              'perfect_tonics.data','perfect_garnishes.data', 'perfect_gins.data', 'description.content', \n",
    "              'description.google_translation', 'description.original_content'], axis=1)\n",
    "\n",
    "\n",
    "# Correct abv values where format is ##/##, first number is taken\n",
    "df['abv'] = np.where(df[\"abv\"].str.contains(\"/\", na=False), df['abv'].str.split('/').str.get(0).str.strip(), df['abv'])\n",
    "\n",
    "# Correct values with % in them, change commas to dots\n",
    "df['abv'] = df['abv'].replace('%','', regex=True).replace(',','.', regex=True)\n",
    "\n",
    "# Handling numeric columns to adhere to correct data types in downstream pipeline\n",
    "df['abv'] = pd.to_numeric(arg=df['abv'] ,errors='coerce')\n",
    "df['average_rating'] = df['average_rating'].apply(pd.to_numeric)\n",
    "\n",
    "# Fill NA with 0, so we can downcast all values to integer\n",
    "df['rating_count'] = df['rating_count'].fillna(0)\n",
    "df['rating_count'] = pd.to_numeric(arg=df['rating_count'],downcast='integer')\n",
    "\n",
    "# Correcting country column.\n",
    "# Handling the case where country format = country / country (eg.: Switzerland / United States)\n",
    "df['country'] = np.where(df['country'].str.contains('/', na=False), df['country'].str.split('/').str.get(0).str.strip(), df['country'])\n",
    "\n",
    "# Country names that do not adhere to ISO country naming standards are replaced\n",
    "country_corrections = {\n",
    "    'Vietnam': 'Viet Nam',\n",
    "    'Russia' : 'Russian Federation',\n",
    "    'Taiwan' : 'Taiwan, Province of China',\n",
    "    'U.S. Virgin Islands' : 'Virgin Islands, U.s.',\n",
    "    'Hong Kong SAR China' : 'Hong Kong',\n",
    "    'Unknown or Invalid Region' : None,\n",
    "    '' : None,\n",
    "    }\n",
    "\n",
    "for i in country_corrections:\n",
    "    df['country'] = np.where(df.country == i, country_corrections[i], df['country'])\n",
    "\n",
    "df['country'] = np.where(df.producer == 'Little Brown Dog Spirits', 'United Kingdom', df['country'])\n",
    "\n",
    "df_garnish = df[df.type == 'garnish']\n",
    "df_garnish = df_garnish[['id', 'type', 'name']]\n",
    "\n",
    "# We drop the remaining rows without valid country values.\n",
    "df = df[df.country.isna()==False]\n",
    "\n",
    "df_gin = df[df.type == 'gin']\n",
    "df_tonic = df[df.type == 'tonic']"
   ]
  },
  {
   "cell_type": "markdown",
   "id": "be65f6e9",
   "metadata": {},
   "source": [
    "## Save normalized tables to local and S3"
   ]
  },
  {
   "cell_type": "code",
   "execution_count": 31,
   "id": "d08f1c02",
   "metadata": {},
   "outputs": [],
   "source": [
    "os.makedirs(normalized_folder, exist_ok=True)\n",
    "df_gin.to_csv('/'.join([normalized_folder, 'gins.csv']), sep=';', index=False)\n",
    "df_garnish.to_csv('/'.join([normalized_folder, 'garnishes.csv']), sep=';', index=False)\n",
    "df_tonic.to_csv('/'.join([normalized_folder, 'tonics.csv']), sep=';', index=False)\n",
    "\n",
    "s3_client.upload_file('/'.join([normalized_folder, 'gins.csv']), \"ginventory-bucket\", '/'.join([normalized_folder, 'gins.csv']))\n",
    "s3_client.upload_file('/'.join([normalized_folder, 'garnishes.csv']), \"ginventory-bucket\", '/'.join([normalized_folder, 'garnishes.csv']))\n",
    "s3_client.upload_file('/'.join([normalized_folder, 'tonics.csv']), \"ginventory-bucket\", '/'.join([normalized_folder, 'tonics.csv']))\n"
   ]
  },
  {
   "cell_type": "markdown",
   "id": "1fe06ac2",
   "metadata": {},
   "source": [
    "## Extract relationships between gins, garnishes and tonics"
   ]
  },
  {
   "cell_type": "code",
   "execution_count": 51,
   "id": "85e252a6",
   "metadata": {},
   "outputs": [],
   "source": [
    "# These tables will form our many-to-many translation tables in our model\n",
    "\n",
    "df = pd.DataFrame(file_json)\n",
    "df = df[df.type == 'gin']\n",
    "\n",
    "# Prepare dataframe with the gin->perfect tonic relationship\n",
    "df[\"perfect_tonics\"] = df[\"perfect_tonics\"].str[\"data\"]\n",
    "df_perfect_tonics = df.explode(\"perfect_tonics\")\n",
    "df_perfect_tonics = pd.concat(\n",
    "    [\n",
    "        df_perfect_tonics,\n",
    "        df_perfect_tonics.pop(\"perfect_tonics\").apply(pd.Series).add_prefix(\"perfect_tonics_\"),\n",
    "    ], axis=1)\n",
    "\n",
    "# Select the necessary columns, drop NA, change data types\n",
    "df_perfect_tonics = df_perfect_tonics[['id', 'perfect_tonics_id']]\n",
    "df_perfect_tonics.dropna(inplace = True)\n",
    "df_perfect_tonics = df_perfect_tonics.astype(int)\n",
    "\n",
    "# Save\n",
    "df_perfect_tonics.to_csv('/'.join([normalized_folder, 'perfect_tonics.csv']), sep=';', index=False)\n",
    "s3_client.upload_file('/'.join([normalized_folder, 'perfect_tonics.csv']), \"ginventory-bucket\", '/'.join([normalized_folder, 'perfect_tonics.csv']))\n",
    "\n",
    "# Prepare dataframe with the gin->perfect garnish relationship\n",
    "df[\"perfect_garnishes\"] = df[\"perfect_garnishes\"].str[\"data\"]\n",
    "df_perfect_garnishes = df.explode(\"perfect_garnishes\")\n",
    "df_perfect_garnishes = pd.concat(\n",
    "    [\n",
    "        df_perfect_garnishes,\n",
    "        df_perfect_garnishes.pop(\"perfect_garnishes\")\n",
    "        .apply(pd.Series)\n",
    "        .add_prefix(\"perfect_garnishes_\"),\n",
    "    ], axis=1)\n",
    "\n",
    "# Select the necessary columns, drop NA, change data types\n",
    "df_perfect_garnishes = df_perfect_garnishes[['id', 'perfect_garnishes_id']]\n",
    "df_perfect_garnishes.dropna(inplace = True)\n",
    "df_perfect_garnishes = df_perfect_garnishes.astype(int)\n",
    "\n",
    "# Save\n",
    "df_perfect_garnishes.to_csv('/'.join([normalized_folder, 'perfect_garnishes.csv']), sep=';', index=False)\n",
    "s3_client.upload_file('/'.join([normalized_folder, 'perfect_garnishes.csv']), \"ginventory-bucket\", '/'\n",
    ".join([normalized_folder, 'perfect_garnishes.csv']))"
   ]
  },
  {
   "cell_type": "markdown",
   "id": "07543c29",
   "metadata": {
    "scrolled": true
   },
   "source": [
    "# Exploring our main dataset\n"
   ]
  },
  {
   "cell_type": "code",
   "execution_count": 33,
   "id": "f4131877",
   "metadata": {},
   "outputs": [
    {
     "name": "stdout",
     "output_type": "stream",
     "text": [
      "Total number of gins in our dataset: 7524\n",
      "Total number of garnishes in our dataset: 229\n",
      "Total number of tonics in our dataset: 675\n",
      "4785 Gins have at least one garnish indicated as a perfect match, 9641 perfect matches in total.\n",
      "4646 Gins have at least one tonic indicated as a perfect match, 7880 perfect matches in total.\n"
     ]
    }
   ],
   "source": [
    "print(f'Total number of gins in our dataset: {df_gin.id.count()}')\n",
    "print(f'Total number of garnishes in our dataset: {df_garnish.id.count()}')\n",
    "print(f'Total number of tonics in our dataset: {df_tonic.id.count()}')\n",
    "\n",
    "print(f'''\n",
    "{df_perfect_garnishes.nunique().id} Gins have at least one garnish indicated as a perfect match, \n",
    "{df_perfect_garnishes.perfect_garnishes_id.count()} perfect matches in total.\n",
    "''')\n",
    "\n",
    "print(f'''\n",
    "{df_perfect_tonics.nunique().id} Gins have at least one tonic indicated as a perfect match, \n",
    "{df_perfect_tonics.perfect_tonics_id.count()} perfect matches in total.\n",
    "''')\n"
   ]
  },
  {
   "cell_type": "code",
   "execution_count": 34,
   "id": "9801851f",
   "metadata": {},
   "outputs": [
    {
     "data": {
      "text/html": [
       "<div>\n",
       "<style scoped>\n",
       "    .dataframe tbody tr th:only-of-type {\n",
       "        vertical-align: middle;\n",
       "    }\n",
       "\n",
       "    .dataframe tbody tr th {\n",
       "        vertical-align: top;\n",
       "    }\n",
       "\n",
       "    .dataframe thead th {\n",
       "        text-align: right;\n",
       "    }\n",
       "</style>\n",
       "<table border=\"1\" class=\"dataframe\">\n",
       "  <thead>\n",
       "    <tr style=\"text-align: right;\">\n",
       "      <th></th>\n",
       "      <th>name</th>\n",
       "      <th>average_rating</th>\n",
       "    </tr>\n",
       "  </thead>\n",
       "  <tbody>\n",
       "    <tr>\n",
       "      <th>1023</th>\n",
       "      <td>Gin Ceret</td>\n",
       "      <td>10.0</td>\n",
       "    </tr>\n",
       "    <tr>\n",
       "      <th>3266</th>\n",
       "      <td>Dancing Sands Dry Gin - (Also known as Sacred ...</td>\n",
       "      <td>9.9</td>\n",
       "    </tr>\n",
       "    <tr>\n",
       "      <th>2120</th>\n",
       "      <td>Spitzmund Gin Sherry Cask Reserve</td>\n",
       "      <td>9.9</td>\n",
       "    </tr>\n",
       "  </tbody>\n",
       "</table>\n",
       "</div>"
      ],
      "text/plain": [
       "                                                   name  average_rating\n",
       "1023                                          Gin Ceret            10.0\n",
       "3266  Dancing Sands Dry Gin - (Also known as Sacred ...             9.9\n",
       "2120                  Spitzmund Gin Sherry Cask Reserve             9.9"
      ]
     },
     "execution_count": 34,
     "metadata": {},
     "output_type": "execute_result"
    }
   ],
   "source": [
    "# Best rated gins\n",
    "df_gin_explore = df_gin[[\"name\", \"average_rating\"]]\n",
    "df_gin_explore.sort_values(\"average_rating\", ascending=False).head(3)"
   ]
  },
  {
   "cell_type": "code",
   "execution_count": 35,
   "id": "52284e13",
   "metadata": {},
   "outputs": [
    {
     "data": {
      "text/plain": [
       "array([[<AxesSubplot:title={'center':'average_rating'}>]], dtype=object)"
      ]
     },
     "execution_count": 35,
     "metadata": {},
     "output_type": "execute_result"
    },
    {
     "data": {
      "image/png": "[encoded data removed]",
      "text/plain": [
       "<Figure size 432x288 with 1 Axes>"
      ]
     },
     "metadata": {
      "needs_background": "light"
     },
     "output_type": "display_data"
    }
   ],
   "source": [
    "# Gin avergae rating histogram\n",
    "df_gin.hist(column='average_rating' ,bins=10)"
   ]
  },
  {
   "cell_type": "code",
   "execution_count": 36,
   "id": "89e83c6a",
   "metadata": {},
   "outputs": [
    {
     "data": {
      "text/html": [
       "<div>\n",
       "<style scoped>\n",
       "    .dataframe tbody tr th:only-of-type {\n",
       "        vertical-align: middle;\n",
       "    }\n",
       "\n",
       "    .dataframe tbody tr th {\n",
       "        vertical-align: top;\n",
       "    }\n",
       "\n",
       "    .dataframe thead th {\n",
       "        text-align: right;\n",
       "    }\n",
       "</style>\n",
       "<table border=\"1\" class=\"dataframe\">\n",
       "  <thead>\n",
       "    <tr style=\"text-align: right;\">\n",
       "      <th></th>\n",
       "      <th>name</th>\n",
       "      <th>rating_count</th>\n",
       "    </tr>\n",
       "  </thead>\n",
       "  <tbody>\n",
       "    <tr>\n",
       "      <th>1208</th>\n",
       "      <td>Hendrick's Gin</td>\n",
       "      <td>9151</td>\n",
       "    </tr>\n",
       "    <tr>\n",
       "      <th>1594</th>\n",
       "      <td>Monkey 47 Schwarzwald Dry Gin</td>\n",
       "      <td>7318</td>\n",
       "    </tr>\n",
       "    <tr>\n",
       "      <th>1040</th>\n",
       "      <td>Gin Mare</td>\n",
       "      <td>7022</td>\n",
       "    </tr>\n",
       "    <tr>\n",
       "      <th>459</th>\n",
       "      <td>Bombay Sapphire Distilled London Dry Gin</td>\n",
       "      <td>6703</td>\n",
       "    </tr>\n",
       "    <tr>\n",
       "      <th>2237</th>\n",
       "      <td>The Botanist</td>\n",
       "      <td>4589</td>\n",
       "    </tr>\n",
       "  </tbody>\n",
       "</table>\n",
       "</div>"
      ],
      "text/plain": [
       "                                          name  rating_count\n",
       "1208                            Hendrick's Gin          9151\n",
       "1594             Monkey 47 Schwarzwald Dry Gin          7318\n",
       "1040                                  Gin Mare          7022\n",
       "459   Bombay Sapphire Distilled London Dry Gin          6703\n",
       "2237                              The Botanist          4589"
      ]
     },
     "execution_count": 36,
     "metadata": {},
     "output_type": "execute_result"
    }
   ],
   "source": [
    "# Most rated gins \n",
    "df_gin_explore = df_gin[[\"name\", \"rating_count\"]]\n",
    "df_gin_explore.sort_values(\"rating_count\", ascending=False).head(5)"
   ]
  },
  {
   "cell_type": "code",
   "execution_count": 37,
   "id": "cd22ce3a",
   "metadata": {},
   "outputs": [
    {
     "data": {
      "text/plain": [
       "array([[<AxesSubplot:title={'center':'rating_count'}>]], dtype=object)"
      ]
     },
     "execution_count": 37,
     "metadata": {},
     "output_type": "execute_result"
    },
    {
     "data": {
      "image/png": "[encoded data removed]",
      "text/plain": [
       "<Figure size 432x288 with 1 Axes>"
      ]
     },
     "metadata": {
      "needs_background": "light"
     },
     "output_type": "display_data"
    }
   ],
   "source": [
    "# Gin ratings count histogram\n",
    "# Most gins have 0-20 ratings\n",
    "df_gin.hist(column='rating_count' ,bins=100, range=[0, 100])"
   ]
  },
  {
   "cell_type": "code",
   "execution_count": 38,
   "id": "32c1cd1c",
   "metadata": {},
   "outputs": [
    {
     "data": {
      "text/html": [
       "<div>\n",
       "<style scoped>\n",
       "    .dataframe tbody tr th:only-of-type {\n",
       "        vertical-align: middle;\n",
       "    }\n",
       "\n",
       "    .dataframe tbody tr th {\n",
       "        vertical-align: top;\n",
       "    }\n",
       "\n",
       "    .dataframe thead th {\n",
       "        text-align: right;\n",
       "    }\n",
       "</style>\n",
       "<table border=\"1\" class=\"dataframe\">\n",
       "  <thead>\n",
       "    <tr style=\"text-align: right;\">\n",
       "      <th></th>\n",
       "      <th>average_rating</th>\n",
       "    </tr>\n",
       "    <tr>\n",
       "      <th>producer</th>\n",
       "      <th></th>\n",
       "    </tr>\n",
       "  </thead>\n",
       "  <tbody>\n",
       "    <tr>\n",
       "      <th>Spitzmund</th>\n",
       "      <td>9.666667</td>\n",
       "    </tr>\n",
       "    <tr>\n",
       "      <th>Awardoo UG</th>\n",
       "      <td>9.500000</td>\n",
       "    </tr>\n",
       "    <tr>\n",
       "      <th>Norlyk Distillery ApS</th>\n",
       "      <td>9.475000</td>\n",
       "    </tr>\n",
       "  </tbody>\n",
       "</table>\n",
       "</div>"
      ],
      "text/plain": [
       "                       average_rating\n",
       "producer                             \n",
       "Spitzmund                    9.666667\n",
       "Awardoo UG                   9.500000\n",
       "Norlyk Distillery ApS        9.475000"
      ]
     },
     "execution_count": 38,
     "metadata": {},
     "output_type": "execute_result"
    }
   ],
   "source": [
    "# Best rated producers\n",
    "df_gin_explore = df_gin[[\"producer\", \"average_rating\"]]\n",
    "df_gin_explore.groupby('producer').mean().sort_values(\"average_rating\",ascending=False).head(3)"
   ]
  },
  {
   "cell_type": "code",
   "execution_count": 39,
   "id": "7a17d982",
   "metadata": {},
   "outputs": [
    {
     "data": {
      "text/plain": [
       "array([[<AxesSubplot:title={'center':'average_rating'}>]], dtype=object)"
      ]
     },
     "execution_count": 39,
     "metadata": {},
     "output_type": "execute_result"
    },
    {
     "data": {
      "image/png": "[encoded data removed]",
      "text/plain": [
       "<Figure size 432x288 with 1 Axes>"
      ]
     },
     "metadata": {
      "needs_background": "light"
     },
     "output_type": "display_data"
    }
   ],
   "source": [
    "# Producer average ratings histogram\n",
    "df_gin.groupby('producer').mean().hist(column='average_rating' ,bins=10)"
   ]
  },
  {
   "cell_type": "code",
   "execution_count": 40,
   "id": "ebaa09d3",
   "metadata": {},
   "outputs": [
    {
     "data": {
      "text/plain": [
       "country\n",
       "United Kingdom    2398\n",
       "Germany            964\n",
       "United States      730\n",
       "Belgium            547\n",
       "Spain              489\n",
       "Name: id, dtype: int64"
      ]
     },
     "execution_count": 40,
     "metadata": {},
     "output_type": "execute_result"
    }
   ],
   "source": [
    "# Countries with the most gins\n",
    "df_gin.groupby('country').nunique().id.sort_values(ascending=False).head(5)"
   ]
  },
  {
   "cell_type": "code",
   "execution_count": 41,
   "id": "b4f8e76d",
   "metadata": {},
   "outputs": [
    {
     "data": {
      "text/plain": [
       "country\n",
       "United Kingdom    750\n",
       "Germany           526\n",
       "United States     424\n",
       "Spain             206\n",
       "France            189\n",
       "Name: producer, dtype: int64"
      ]
     },
     "execution_count": 41,
     "metadata": {},
     "output_type": "execute_result"
    }
   ],
   "source": [
    "# Countries with the most gin producers\n",
    "df_gin.groupby(['country']).nunique().producer.sort_values(ascending=False).head(5)"
   ]
  },
  {
   "cell_type": "markdown",
   "id": "81a740c1",
   "metadata": {},
   "source": [
    "# AWS"
   ]
  },
  {
   "cell_type": "markdown",
   "id": "452d0640",
   "metadata": {},
   "source": [
    "### Redshift setup"
   ]
  },
  {
   "cell_type": "code",
   "execution_count": 42,
   "id": "a6141058",
   "metadata": {},
   "outputs": [
    {
     "name": "stdout",
     "output_type": "stream",
     "text": [
      "Creating a new IAM Role\n",
      "Get the IAM role ARN\n",
      "arn:aws:iam::752709659342:role/DWH_ROLE\n",
      "Creating new cluster: ginventorydwh\n",
      "New cluster named 'ginventorydwh' created and available\n",
      "VPC security group ID: sg-0d5e137166258a0e9\n",
      "Rule requested already exists\n"
     ]
    }
   ],
   "source": [
    "# Create role for Redshift to access S3. Start new Redshift cluster and assign S3 access role. Open VPC to access cluster.\n",
    "\n",
    "roleArn = aws_helper_functions.create_IAM_role_Redshift_to_S3(iam, ROLE_NAME)\n",
    "aws_helper_functions.create_redshift_cluster(redshift, CLUSTER_ID, CLUSTER_TYPE, \n",
    "NODE_TYPE, NUMBER_OF_NODES, DB_NAME, DB_USER, DB_PASSWORD, roleArn)\n",
    "aws_helper_functions.set_vpc_security_group(redshift, CLUSTER_ID, ec2)"
   ]
  },
  {
   "cell_type": "markdown",
   "id": "1d49e2f7",
   "metadata": {},
   "source": [
    "## Load data to Redshift"
   ]
  },
  {
   "cell_type": "code",
   "execution_count": 43,
   "id": "2d0f716e",
   "metadata": {},
   "outputs": [],
   "source": [
    "# Drop and create all tables\n",
    "\n",
    "response = redshift_data.batch_execute_statement(\n",
    "        ClusterIdentifier=CLUSTER_ID,\n",
    "        Database=DB_NAME,\n",
    "        DbUser=DB_USER,\n",
    "        Sqls=sql_statements.drop_statements + sql_statements.create_statements\n",
    "        )\n"
   ]
  },
  {
   "cell_type": "code",
   "execution_count": 44,
   "id": "843f7dd7",
   "metadata": {},
   "outputs": [],
   "source": [
    "# Load tables from S3\n",
    "file_names = ['garnishes', 'gins', 'perfect_garnishes', 'perfect_tonics', 'tonics']\n",
    "\n",
    "# List of S3 imports to execute\n",
    "sqls = [f\"\"\"\n",
    "        COPY {name}\n",
    "        FROM 's3://ginventory-bucket/normalized_data/{name}.csv'\n",
    "        IAM_ROLE '{roleArn}' \n",
    "        FORMAT AS csv\n",
    "        IGNOREHEADER 1\n",
    "        delimiter ';'\n",
    "    \"\"\" for name in file_names]\n",
    "\n",
    "response = redshift_data.batch_execute_statement(\n",
    "    ClusterIdentifier=CLUSTER_ID,\n",
    "    Database=DB_NAME,\n",
    "    DbUser=DB_USER,\n",
    "    Sqls=sqls\n",
    "    )\n",
    "\n",
    "# Load countries data from SQL inserts\n",
    "response = redshift_data.execute_statement(\n",
    "    ClusterIdentifier=CLUSTER_ID,\n",
    "    Database=DB_NAME,\n",
    "    DbUser=DB_USER,\n",
    "    Sql=sql_statements.INSERT_INTO_COUNTRIES\n",
    ")\n"
   ]
  },
  {
   "cell_type": "markdown",
   "id": "1be852c8",
   "metadata": {},
   "source": [
    "## Data checks, further data modeling"
   ]
  },
  {
   "cell_type": "code",
   "execution_count": 45,
   "id": "7f67f8f7",
   "metadata": {},
   "outputs": [
    {
     "name": "stdout",
     "output_type": "stream",
     "text": [
      "   count\n",
      "0    229\n",
      "   count\n",
      "0   7524\n",
      "   count\n",
      "0   9641\n",
      "   count\n",
      "0   7880\n",
      "   count\n",
      "0    675\n"
     ]
    }
   ],
   "source": [
    "# Check row counts of all tables\n",
    "\n",
    "for name in file_names:\n",
    "    sql = f'SELECT COUNT(*) FROM {name}'\n",
    "\n",
    "    response = redshift_data.execute_statement(\n",
    "        ClusterIdentifier=CLUSTER_ID,\n",
    "        Database=DB_NAME,\n",
    "        DbUser=DB_USER,\n",
    "        Sql=sql\n",
    "    )\n",
    "\n",
    "    print(aws_helper_functions.redshift_get_statement_result_to_dataframe(redshift_data, response['Id']))"
   ]
  },
  {
   "cell_type": "code",
   "execution_count": 46,
   "id": "af46cbe7",
   "metadata": {},
   "outputs": [
    {
     "data": {
      "text/plain": [
       "'Result set contains 0 rows.'"
      ]
     },
     "execution_count": 46,
     "metadata": {},
     "output_type": "execute_result"
    }
   ],
   "source": [
    "# Check if all country names adhere to the country table.\n",
    "# We expect to see 0 rows returned\n",
    "\n",
    "sql_statement = '''\n",
    "    SELECT * FROM\n",
    "    (\n",
    "        SELECT * FROM gins \n",
    "        LEFT JOIN countries \n",
    "        ON gins.country = countries.nicename \n",
    "        WHERE countries.id is Null\n",
    "    ) \n",
    "        AS country_mismatches;\n",
    "'''\n",
    "\n",
    "response = redshift_data.execute_statement(\n",
    "        ClusterIdentifier=CLUSTER_ID,\n",
    "        Database=DB_NAME,\n",
    "        DbUser=DB_USER,\n",
    "        Sql=sql_statement\n",
    "    )\n",
    "\n",
    "\n",
    "aws_helper_functions.redshift_get_statement_result_to_dataframe(redshift_data, response['Id'])"
   ]
  },
  {
   "cell_type": "code",
   "execution_count": 47,
   "id": "5b51ecfa",
   "metadata": {},
   "outputs": [],
   "source": [
    "# Add country_id column to tonics and gins tables, delete country column.\n",
    "\n",
    "sqls = []\n",
    "\n",
    "sqls.append('''\n",
    "    ALTER TABLE tonics\n",
    "    ADD country_id smallint;\n",
    "''')\n",
    "sqls.append('''\n",
    "    UPDATE tonics SET country_id = countries.id FROM countries JOIN tonics t on t.country=countries.nicename\n",
    "''')\n",
    "sqls.append('''\n",
    "    ALTER TABLE tonics DROP country\n",
    "''')\n",
    "\n",
    "sqls.append('''\n",
    "    ALTER TABLE gins\n",
    "    ADD country_id smallint;\n",
    "''')\n",
    "sqls.append('''\n",
    "    UPDATE gins SET country_id = countries.id FROM countries JOIN gins g on g.country=countries.nicename\n",
    "''')\n",
    "sqls.append('''\n",
    "    ALTER TABLE gins DROP country\n",
    "''')\n",
    "\n",
    "response = redshift_data.batch_execute_statement(\n",
    "    ClusterIdentifier=CLUSTER_ID,\n",
    "    Database=DB_NAME,\n",
    "    DbUser=DB_USER,\n",
    "    Sqls=sqls,\n",
    ")\n"
   ]
  },
  {
   "cell_type": "markdown",
   "id": "4a8947ee",
   "metadata": {},
   "source": [
    "## Delete Redshift cluster"
   ]
  },
  {
   "cell_type": "code",
   "execution_count": 48,
   "id": "16760427",
   "metadata": {},
   "outputs": [
    {
     "name": "stdout",
     "output_type": "stream",
     "text": [
      "Deleting cluster: ginventorydwh\n",
      "ginventorydwh deleted\n"
     ]
    }
   ],
   "source": [
    "redshift.delete_cluster( ClusterIdentifier=CLUSTER_ID,  SkipFinalClusterSnapshot=True)\n",
    "\n",
    "print(f'Deleting cluster: {CLUSTER_ID}')\n",
    "waiter = redshift.get_waiter('cluster_deleted')\n",
    "waiter.wait(\n",
    "        ClusterIdentifier = CLUSTER_ID,\n",
    "        WaiterConfig = {\n",
    "            \"Delay\": 10,\n",
    "            \"MaxAttempts\": 30\n",
    "        }\n",
    "    )\n",
    "print(f'{CLUSTER_ID} deleted')"
   ]
  },
  {
   "cell_type": "markdown",
   "id": "fd58ea52",
   "metadata": {},
   "source": [
    "## Delete role"
   ]
  },
  {
   "cell_type": "code",
   "execution_count": 49,
   "id": "eaf7e85f",
   "metadata": {},
   "outputs": [
    {
     "data": {
      "text/plain": [
       "{'ResponseMetadata': {'RequestId': '09bd3b88-e1e5-4b91-baa0-ccdbfd7f2c08',\n",
       "  'HTTPStatusCode': 200,\n",
       "  'HTTPHeaders': {'x-amzn-requestid': '09bd3b88-e1e5-4b91-baa0-ccdbfd7f2c08',\n",
       "   'content-type': 'text/xml',\n",
       "   'content-length': '200',\n",
       "   'date': 'Thu, 17 Nov 2022 13:04:03 GMT'},\n",
       "  'RetryAttempts': 0}}"
      ]
     },
     "execution_count": 49,
     "metadata": {},
     "output_type": "execute_result"
    }
   ],
   "source": [
    "iam.detach_role_policy(RoleName=ROLE_NAME, PolicyArn=\"arn:aws:iam::aws:policy/AmazonS3ReadOnlyAccess\")\n",
    "iam.delete_role(RoleName=ROLE_NAME)"
   ]
  },
  {
   "cell_type": "code",
   "execution_count": null,
   "id": "788ff7c9",
   "metadata": {},
   "outputs": [],
   "source": []
  }
 ],
 "metadata": {
  "kernelspec": {
   "display_name": "Python 3.9.6 64-bit",
   "language": "python",
   "name": "python3"
  },
  "language_info": {
   "codemirror_mode": {
    "name": "ipython",
    "version": 3
   },
   "file_extension": ".py",
   "mimetype": "text/x-python",
   "name": "python",
   "nbconvert_exporter": "python",
   "pygments_lexer": "ipython3",
   "version": "3.9.6"
  },
  "vscode": {
   "interpreter": {
    "hash": "548ef4a45503cf6cb57d5f5808a981105b25d5d40770224cf160d37fce6cb67e"
   }
  }
 },
 "nbformat": 4,
 "nbformat_minor": 5
}
